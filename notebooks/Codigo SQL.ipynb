{
 "cells": [
  {
   "metadata": {},
   "cell_type": "markdown",
   "source": "# SQL Server",
   "id": "81eb2e185ab30272"
  },
  {
   "metadata": {},
   "cell_type": "markdown",
   "source": [
    "## Base de Datos: ProyectoClimaContaminacion\n",
    "**Descripción:** Tablas de clima y contaminación mensual integradas\n",
    "\n",
    "```sql\n",
    "\n",
    "CREATE DATABASE ProyectoClimaContaminacion;\n",
    "GO\n",
    "\n",
    "-- Usar la base de datos\n",
    "USE ProyectoClimaContaminacion;\n",
    "GO\n",
    "\n",
    "-- =========================================\n",
    "-- Tabla: ClimaMensual\n",
    "-- Descripción: Contiene información climática mensual\n",
    "-- =========================================\n",
    "CREATE TABLE ClimaMensual (\n",
    "    id INT IDENTITY(1,1) PRIMARY KEY,\n",
    "    Anio INT NOT NULL,\n",
    "    Mes INT NOT NULL,\n",
    "    TempMax FLOAT NULL,\n",
    "    TempMin FLOAT NULL,\n",
    "    Precipitacion FLOAT NULL\n",
    ");\n",
    "GO\n",
    "\n",
    "-- =========================================\n",
    "-- Tabla: ContaminacionMensual\n",
    "-- Descripción: Contiene información de contaminantes mensuales\n",
    "-- =========================================\n",
    "CREATE TABLE ContaminacionMensual (\n",
    "    id INT IDENTITY(1,1) PRIMARY KEY,\n",
    "    Anio INT NOT NULL,\n",
    "    Mes INT NOT NULL,\n",
    "    PM10 FLOAT NULL,\n",
    "    PM25 FLOAT NULL,\n",
    "    NO2 FLOAT NULL,\n",
    "    O3 FLOAT NULL\n",
    ");\n",
    "GO\n",
    "\n",
    "-- =========================================\n",
    "-- Tabla: ClimaContaminacion\n",
    "-- Descripción: Combina información climática y de contaminantes\n",
    "-- =========================================\n",
    "CREATE TABLE ClimaContaminacion (\n",
    "    id INT IDENTITY(1,1) PRIMARY KEY,\n",
    "    Anio INT NOT NULL,\n",
    "    Mes INT NOT NULL,\n",
    "    TempMax FLOAT NULL,\n",
    "    TempMin FLOAT NULL,\n",
    "    Precipitacion FLOAT NULL,\n",
    "    PM10 FLOAT NULL,\n",
    "    PM25 FLOAT NULL,\n",
    "    NO2 FLOAT NULL,\n",
    "    O3 FLOAT NULL\n",
    ");\n",
    "GO\n"
   ],
   "id": "6a139b55bf76e712"
  },
  {
   "metadata": {},
   "cell_type": "markdown",
   "source": "# main.py",
   "id": "44c5f5f4c708f784"
  },
  {
   "metadata": {},
   "cell_type": "markdown",
   "source": [
    "##\n",
    "### Modificar estas lineas en main.py\n",
    "----\n",
    "main.py\n",
    "gestor_db = GestorBaseDatos(\n",
    "    server=r\"DESKTOP-GQ1EGAS\\JOHEL\",  # <- Aquí ponen el nombre de su servidor\n",
    "    database=\"ProyectoClimaContaminacion\"\n",
    ")"
   ],
   "id": "a943a05a0c18a4cd"
  },
  {
   "metadata": {},
   "cell_type": "code",
   "outputs": [],
   "execution_count": null,
   "source": "",
   "id": "8c2284140a56e6b6"
  }
 ],
 "metadata": {
  "kernelspec": {
   "display_name": "Python 3",
   "language": "python",
   "name": "python3"
  },
  "language_info": {
   "codemirror_mode": {
    "name": "ipython",
    "version": 2
   },
   "file_extension": ".py",
   "mimetype": "text/x-python",
   "name": "python",
   "nbconvert_exporter": "python",
   "pygments_lexer": "ipython2",
   "version": "2.7.6"
  }
 },
 "nbformat": 4,
 "nbformat_minor": 5
}
